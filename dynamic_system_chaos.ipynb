{
 "cells": [
  {
   "cell_type": "markdown",
   "metadata": {},
   "source": [
    "# Dynamic System And chaos"
   ]
  },
  {
   "cell_type": "markdown",
   "metadata": {},
   "source": [
    "This notebook is my personal reference guide and is created based on Feldman textbook on the same topic."
   ]
  },
  {
   "cell_type": "markdown",
   "metadata": {},
   "source": [
    "just the basics have been highlighted"
   ]
  },
  {
   "cell_type": "markdown",
   "metadata": {},
   "source": [
    "Functions = an action on a set of inputs that creates a set of outputs . \n",
    "it must be deterministic or else its considered stochastic.\n",
    "\n",
    "\n",
    "for any given input function must have a determined output at any time \n",
    "if its f(x) = 2x then it must give 2 for at all times and should not depend on other things\n",
    "\n",
    "\n",
    "if color yellow shirt is a function of good mood then when in good mood always yellow shirt is the answer"
   ]
  },
  {
   "cell_type": "markdown",
   "metadata": {},
   "source": [
    "Dynamical system is a sytem which changes according to time.\n",
    "f(x) = 2x\n",
    "x0 = seed\n",
    "x1\n",
    "x2\n",
    "x3... will be the values at time 1 2 3 ...\n",
    "\n",
    "f(x0) = will be the seed value on  which entire system depends.\n",
    "(refer book for further details on initial conditions etc)\n",
    "x0 is seed\n",
    "x1 ,x2 etc depends on the seed\n",
    "\n",
    "x1,x2,..... gives a list of what we call os orbit or itenerary xn is nth iterant. at nth time for time series\n",
    "\n",
    "now we have a system f(x) = 2x\n",
    "and since it is dynamical and discrete we shall see how iterated functions behave\n",
    "f(0) ive taken 2 as my seed value anything can be used\n",
    "f(1) = seed* 2 = 4\n",
    "f(2) = 8\n",
    "f(3) = 16 ...\n",
    "f(n) = f(f(n-1))\n",
    "\n",
    "phase lines = give details about where system is stable.\n",
    "fixed point are the seedds which give same value when sent to iterative function f(x) = 2x +1 has fixed point on -1 see where f(x) = x . now phase line shows how seeds near the points move if they tend to come near that point from both sides or it is divergent.\n",
    "\n",
    "cobweb step plot etc refer textbook\n",
    "\n",
    "\n"
   ]
  },
  {
   "cell_type": "code",
   "execution_count": 1,
   "metadata": {},
   "outputs": [],
   "source": [
    "import matplotlib.pyplot as plt\n",
    "import numpy as np\n",
    "import pandas as pd\n",
    "import math"
   ]
  },
  {
   "cell_type": "markdown",
   "metadata": {},
   "source": [
    "### time series plots\n"
   ]
  },
  {
   "cell_type": "raw",
   "metadata": {},
   "source": [
    "time series plot take a seed and determine how a system behaves at certain instant of times x1,x2,x3 ... "
   ]
  },
  {
   "cell_type": "markdown",
   "metadata": {},
   "source": [
    "so let us take f(x) = sqrt(x) and write a function to get time series"
   ]
  },
  {
   "cell_type": "code",
   "execution_count": 2,
   "metadata": {},
   "outputs": [],
   "source": [
    "def time_series_plot(function,time,seed):#fuction of system time or number of itenary seed value\n",
    "    time_list = np.arange(time+1)\n",
    "    answer_list = [seed,]\n",
    "    for i in range(time):\n",
    "        seed = function(seed)\n",
    "        answer_list.append(seed)\n",
    "    plt.plot(time_list,answer_list,'y')"
   ]
  },
  {
   "cell_type": "code",
   "execution_count": 3,
   "metadata": {},
   "outputs": [
    {
     "data": {
      "image/png": "[encoded data removed]",
      "text/plain": [
       "<Figure size 432x288 with 1 Axes>"
      ]
     },
     "metadata": {
      "needs_background": "light"
     },
     "output_type": "display_data"
    }
   ],
   "source": [
    "time_series_plot(math.sqrt,10,2-1)\n",
    "time_series_plot(math.sqrt,10,2)\n",
    "time_series_plot(math.sqrt,10,2+1)\n",
    "plt.show()"
   ]
  },
  {
   "cell_type": "code",
   "execution_count": 4,
   "metadata": {},
   "outputs": [],
   "source": [
    "#here 1 is the fixed point."
   ]
  }
 ],
 "metadata": {
  "kernelspec": {
   "display_name": "Python 3",
   "language": "python",
   "name": "python3"
  },
  "language_info": {
   "codemirror_mode": {
    "name": "ipython",
    "version": 3
   },
   "file_extension": ".py",
   "mimetype": "text/x-python",
   "name": "python",
   "nbconvert_exporter": "python",
   "pygments_lexer": "ipython3",
   "version": "3.7.3"
  }
 },
 "nbformat": 4,
 "nbformat_minor": 2
}
